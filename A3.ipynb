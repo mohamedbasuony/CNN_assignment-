{
 "cells": [
  {
   "cell_type": "code",
   "execution_count": 67,
   "id": "61845ae1",
   "metadata": {},
   "outputs": [],
   "source": [
    "import numpy as np\n",
    "import pandas as pd\n",
    "import matplotlib.pyplot as plt\n",
    "from matplotlib import style\n",
    "import seaborn as sns\n",
    "from sklearn.model_selection import train_test_split\n",
    "from sklearn.model_selection import KFold\n",
    "from sklearn.metrics import accuracy_score,precision_score,recall_score,confusion_matrix,roc_curve,roc_auc_score\n",
    "from sklearn.model_selection import GridSearchCV\n",
    "from sklearn.preprocessing import LabelEncoder\n",
    "\n",
    "from keras.preprocessing.image import ImageDataGenerator\n",
    "from keras import backend as K\n",
    "from keras.models import Sequential\n",
    "from keras.layers import Dense\n",
    "from keras.layers import Dropout, Flatten,Activation\n",
    "from keras.layers import Conv2D, MaxPooling2D, BatchNormalization\n",
    "from tensorflow.keras.utils import to_categorical\n",
    "from keras.callbacks import ReduceLROnPlateau\n",
    "from tensorflow.keras.optimizers import Adam,SGD,Adagrad,Adadelta,RMSprop\n",
    "from keras.callbacks import ReduceLROnPlateau\n",
    "\n",
    "import tensorflow as tf\n",
    "import random as rn\n",
    "import cv2                  \n",
    "import numpy as np  \n",
    "from tqdm import tqdm\n",
    "import os                   \n",
    "from random import shuffle  \n",
    "from zipfile import ZipFile\n",
    "from PIL import Image"
   ]
  },
  {
   "cell_type": "code",
   "execution_count": 68,
   "id": "f01eaee7",
   "metadata": {},
   "outputs": [],
   "source": [
    "def label_maker(image,f_type):\n",
    "    return f_type\n",
    "\n",
    "images_array=[]\n",
    "labels_array=[]\n",
    "dimensions=150\n",
    "storage=[0,0,0,0,0]\n",
    "right_pred_storage=[0,0,0,0,0]\n",
    "Daisy_dir='/Users/mohamedbasuony/desktop/flower_photos/daisy'\n",
    "Sunflower_dir='/Users/mohamedbasuony/desktop/flower_photos/sunflowers'\n",
    "Tulip_dir='/Users/mohamedbasuony/desktop/flower_photos/tulips'\n",
    "Dandelion_dir='/Users/mohamedbasuony/desktop/flower_photos/dandelion'\n",
    "Rose_dir='/Users/mohamedbasuony/desktop/flower_photos/roses'"
   ]
  },
  {
   "cell_type": "code",
   "execution_count": 66,
   "id": "961fc39c",
   "metadata": {},
   "outputs": [
    {
     "name": "stderr",
     "output_type": "stream",
     "text": [
      "100%|████████████████████████████████████████| 633/633 [00:02<00:00, 274.05it/s]\n",
      "100%|████████████████████████████████████████| 699/699 [00:02<00:00, 247.56it/s]\n",
      "100%|████████████████████████████████████████| 799/799 [00:03<00:00, 241.67it/s]\n",
      "100%|████████████████████████████████████████| 898/898 [00:03<00:00, 271.33it/s]\n",
      "100%|████████████████████████████████████████| 641/641 [00:02<00:00, 274.30it/s]\n"
     ]
    }
   ],
   "source": [
    "def train_d(f_type,direct):\n",
    "    for img in tqdm(os.listdir(direct)):\n",
    "        label=label_maker(img,f_type)\n",
    "        path = os.path.join(direct,img)\n",
    "        img = cv2.imread(path,cv2.IMREAD_COLOR)\n",
    "        img = cv2.resize(img, (dimensions,dimensions))\n",
    "        \n",
    "        images_array.append(np.array(img))\n",
    "        labels_array.append(str(label))\n",
    "        \n",
    "train_d('Daisy',Daisy_dir)\n",
    "\n",
    "train_d('Sunflower',Sunflower_dir)\n",
    "\n",
    "train_d('Tulip',Tulip_dir)\n",
    "\n",
    "train_d('Dandelion',Dandelion_dir)\n",
    "\n",
    "train_d('Rose',Rose_dir)\n",
    "\n",
    "le=LabelEncoder()\n",
    "labels_array=le.fit_transform(labels_array)\n",
    "labels_array=to_categorical(labels_array,5)\n",
    "images_array=np.array(images_array)\n",
    "images_array=images_array/255\n",
    "\n",
    "x_train,x_test,y_train,y_test=train_test_split(images_array,labels_array,test_size=0.25,random_state=53)\n",
    "np.random.seed(53)\n",
    "rn.seed(53)\n",
    "tf.random.set_seed(53)"
   ]
  },
  {
   "cell_type": "code",
   "execution_count": 69,
   "id": "ea5c5699",
   "metadata": {},
   "outputs": [],
   "source": [
    "CNN = Sequential()\n",
    "CNN.add(Conv2D(filters = 32, kernel_size = (5,5),padding = 'Same',activation ='relu', input_shape = (150,150,3)))\n",
    "CNN.add(MaxPooling2D(pool_size=(2,2)))\n",
    "\n",
    "\n",
    "CNN.add(Conv2D(filters = 64, kernel_size = (3,3),padding = 'Same',activation ='relu'))\n",
    "CNN.add(MaxPooling2D(pool_size=(2,2), strides=(2,2)))\n",
    " \n",
    "\n",
    "CNN.add(Conv2D(filters =96, kernel_size = (3,3),padding = 'Same',activation ='relu'))\n",
    "CNN.add(MaxPooling2D(pool_size=(2,2), strides=(2,2)))\n",
    "\n",
    "CNN.add(Conv2D(filters = 96, kernel_size = (3,3),padding = 'Same',activation ='relu'))\n",
    "CNN.add(MaxPooling2D(pool_size=(2,2), strides=(2,2)))\n",
    "\n",
    "CNN.add(Flatten())\n",
    "CNN.add(Dense(512))\n",
    "CNN.add(Activation('relu'))\n",
    "CNN.add(Dense(5, activation = \"softmax\"))"
   ]
  },
  {
   "cell_type": "code",
   "execution_count": 70,
   "id": "b29c0cd2",
   "metadata": {},
   "outputs": [],
   "source": [
    "batch_size=128\n",
    "epochs=50\n",
    "\n",
    "red_lr= ReduceLROnPlateau(monitor='val_acc',patience=3,verbose=1,factor=0.1)\n"
   ]
  },
  {
   "cell_type": "code",
   "execution_count": 71,
   "id": "7f086bc7",
   "metadata": {},
   "outputs": [
    {
     "name": "stdout",
     "output_type": "stream",
     "text": [
      "Model: \"sequential_2\"\n",
      "_________________________________________________________________\n",
      " Layer (type)                Output Shape              Param #   \n",
      "=================================================================\n",
      " conv2d_8 (Conv2D)           (None, 150, 150, 32)      2432      \n",
      "                                                                 \n",
      " max_pooling2d_8 (MaxPooling  (None, 75, 75, 32)       0         \n",
      " 2D)                                                             \n",
      "                                                                 \n",
      " conv2d_9 (Conv2D)           (None, 75, 75, 64)        18496     \n",
      "                                                                 \n",
      " max_pooling2d_9 (MaxPooling  (None, 37, 37, 64)       0         \n",
      " 2D)                                                             \n",
      "                                                                 \n",
      " conv2d_10 (Conv2D)          (None, 37, 37, 96)        55392     \n",
      "                                                                 \n",
      " max_pooling2d_10 (MaxPoolin  (None, 18, 18, 96)       0         \n",
      " g2D)                                                            \n",
      "                                                                 \n",
      " conv2d_11 (Conv2D)          (None, 18, 18, 96)        83040     \n",
      "                                                                 \n",
      " max_pooling2d_11 (MaxPoolin  (None, 9, 9, 96)         0         \n",
      " g2D)                                                            \n",
      "                                                                 \n",
      " flatten_2 (Flatten)         (None, 7776)              0         \n",
      "                                                                 \n",
      " dense_4 (Dense)             (None, 512)               3981824   \n",
      "                                                                 \n",
      " activation_2 (Activation)   (None, 512)               0         \n",
      "                                                                 \n",
      " dense_5 (Dense)             (None, 5)                 2565      \n",
      "                                                                 \n",
      "=================================================================\n",
      "Total params: 4,143,749\n",
      "Trainable params: 4,143,749\n",
      "Non-trainable params: 0\n",
      "_________________________________________________________________\n"
     ]
    }
   ],
   "source": [
    "generator = ImageDataGenerator(\n",
    "        featurewise_center=False,  \n",
    "        samplewise_center=False,  \n",
    "        featurewise_std_normalization=False,  \n",
    "        samplewise_std_normalization=False,  \n",
    "        zca_whitening=False, \n",
    "        rotation_range=10, \n",
    "        zoom_range = 0.1, \n",
    "        width_shift_range=0.2, \n",
    "        height_shift_range=0.2,  \n",
    "        horizontal_flip=True,  \n",
    "        vertical_flip=False) \n",
    "\n",
    "\n",
    "generator.fit(x_train)\n",
    "CNN.compile(optimizer=Adam(lr=0.001),loss='categorical_crossentropy',metrics=['accuracy'])\n",
    "CNN.summary()\n"
   ]
  },
  {
   "cell_type": "code",
   "execution_count": 72,
   "id": "4e8487e4",
   "metadata": {},
   "outputs": [
    {
     "name": "stderr",
     "output_type": "stream",
     "text": [
      "/var/folders/c2/vdwmxyv1445gzg0c9mw5s2f40000gn/T/ipykernel_8893/1845686898.py:1: UserWarning: `Model.fit_generator` is deprecated and will be removed in a future version. Please use `Model.fit`, which supports generators.\n",
      "  run_model = model.fit_generator(datagen.flow(x_train,y_train, batch_size=batch_size),\n"
     ]
    },
    {
     "name": "stdout",
     "output_type": "stream",
     "text": [
      "Epoch 1/50\n",
      "21/21 [==============================] - 39s 2s/step - loss: 1.4433 - accuracy: 0.3552 - val_loss: 1.2433 - val_accuracy: 0.4434\n",
      "Epoch 2/50\n",
      "21/21 [==============================] - 40s 2s/step - loss: 1.1956 - accuracy: 0.4695 - val_loss: 1.0742 - val_accuracy: 0.5697\n",
      "Epoch 3/50\n",
      "21/21 [==============================] - 41s 2s/step - loss: 1.0566 - accuracy: 0.5903 - val_loss: 0.9814 - val_accuracy: 0.6329\n",
      "Epoch 4/50\n",
      "21/21 [==============================] - 40s 2s/step - loss: 0.9695 - accuracy: 0.6235 - val_loss: 0.9338 - val_accuracy: 0.6460\n",
      "Epoch 5/50\n",
      "21/21 [==============================] - 40s 2s/step - loss: 0.9074 - accuracy: 0.6486 - val_loss: 0.8523 - val_accuracy: 0.6808\n",
      "Epoch 6/50\n",
      "21/21 [==============================] - 41s 2s/step - loss: 0.8748 - accuracy: 0.6654 - val_loss: 0.8724 - val_accuracy: 0.6569\n",
      "Epoch 7/50\n",
      "21/21 [==============================] - 41s 2s/step - loss: 0.8635 - accuracy: 0.6620 - val_loss: 0.8118 - val_accuracy: 0.6852\n",
      "Epoch 8/50\n",
      "21/21 [==============================] - 40s 2s/step - loss: 0.8316 - accuracy: 0.6745 - val_loss: 0.8054 - val_accuracy: 0.6852\n",
      "Epoch 9/50\n",
      "21/21 [==============================] - 40s 2s/step - loss: 0.7819 - accuracy: 0.6989 - val_loss: 0.8412 - val_accuracy: 0.6906\n",
      "Epoch 10/50\n",
      "21/21 [==============================] - 40s 2s/step - loss: 0.7765 - accuracy: 0.7020 - val_loss: 0.7968 - val_accuracy: 0.7048\n",
      "Epoch 11/50\n",
      "21/21 [==============================] - 41s 2s/step - loss: 0.7783 - accuracy: 0.6974 - val_loss: 0.7939 - val_accuracy: 0.7048\n",
      "Epoch 12/50\n",
      "21/21 [==============================] - 42s 2s/step - loss: 0.7409 - accuracy: 0.7142 - val_loss: 0.7476 - val_accuracy: 0.7146\n",
      "Epoch 13/50\n",
      "21/21 [==============================] - 40s 2s/step - loss: 0.7104 - accuracy: 0.7271 - val_loss: 0.7136 - val_accuracy: 0.7124\n",
      "Epoch 14/50\n",
      "21/21 [==============================] - 40s 2s/step - loss: 0.6944 - accuracy: 0.7351 - val_loss: 0.7015 - val_accuracy: 0.7157\n",
      "Epoch 15/50\n",
      "21/21 [==============================] - 40s 2s/step - loss: 0.6807 - accuracy: 0.7245 - val_loss: 0.6444 - val_accuracy: 0.7614\n",
      "Epoch 16/50\n",
      "21/21 [==============================] - 40s 2s/step - loss: 0.6572 - accuracy: 0.7470 - val_loss: 0.8049 - val_accuracy: 0.7124\n",
      "Epoch 17/50\n",
      "21/21 [==============================] - 40s 2s/step - loss: 0.6798 - accuracy: 0.7473 - val_loss: 0.7203 - val_accuracy: 0.7200\n",
      "Epoch 18/50\n",
      "21/21 [==============================] - 40s 2s/step - loss: 0.6538 - accuracy: 0.7481 - val_loss: 0.6485 - val_accuracy: 0.7647\n",
      "Epoch 19/50\n",
      "21/21 [==============================] - 39s 2s/step - loss: 0.6431 - accuracy: 0.7519 - val_loss: 0.6007 - val_accuracy: 0.7658\n",
      "Epoch 20/50\n",
      "21/21 [==============================] - 40s 2s/step - loss: 0.6363 - accuracy: 0.7565 - val_loss: 0.6147 - val_accuracy: 0.7658\n",
      "Epoch 21/50\n",
      "21/21 [==============================] - 40s 2s/step - loss: 0.6218 - accuracy: 0.7578 - val_loss: 0.7750 - val_accuracy: 0.7266\n",
      "Epoch 22/50\n",
      "21/21 [==============================] - 40s 2s/step - loss: 0.5971 - accuracy: 0.7717 - val_loss: 0.6458 - val_accuracy: 0.7614\n",
      "Epoch 23/50\n",
      "21/21 [==============================] - 40s 2s/step - loss: 0.5767 - accuracy: 0.7740 - val_loss: 0.7376 - val_accuracy: 0.7277\n",
      "Epoch 24/50\n",
      "21/21 [==============================] - 40s 2s/step - loss: 0.5603 - accuracy: 0.7797 - val_loss: 0.6604 - val_accuracy: 0.7603\n",
      "Epoch 25/50\n",
      "21/21 [==============================] - 40s 2s/step - loss: 0.5383 - accuracy: 0.7927 - val_loss: 0.6541 - val_accuracy: 0.7538\n",
      "Epoch 26/50\n",
      "21/21 [==============================] - 40s 2s/step - loss: 0.6032 - accuracy: 0.7687 - val_loss: 0.6019 - val_accuracy: 0.7821\n",
      "Epoch 27/50\n",
      "21/21 [==============================] - 40s 2s/step - loss: 0.5550 - accuracy: 0.7900 - val_loss: 0.6686 - val_accuracy: 0.7418\n",
      "Epoch 28/50\n",
      "21/21 [==============================] - 40s 2s/step - loss: 0.5433 - accuracy: 0.7915 - val_loss: 0.6061 - val_accuracy: 0.7702\n",
      "Epoch 29/50\n",
      "21/21 [==============================] - 41s 2s/step - loss: 0.5381 - accuracy: 0.7965 - val_loss: 0.5892 - val_accuracy: 0.7941\n",
      "Epoch 30/50\n",
      "21/21 [==============================] - 40s 2s/step - loss: 0.4816 - accuracy: 0.8201 - val_loss: 0.5432 - val_accuracy: 0.7996\n",
      "Epoch 31/50\n",
      "21/21 [==============================] - 41s 2s/step - loss: 0.4849 - accuracy: 0.8152 - val_loss: 0.6300 - val_accuracy: 0.7571\n",
      "Epoch 32/50\n",
      "21/21 [==============================] - 41s 2s/step - loss: 0.4977 - accuracy: 0.8110 - val_loss: 0.5590 - val_accuracy: 0.7865\n",
      "Epoch 33/50\n",
      "21/21 [==============================] - 41s 2s/step - loss: 0.4578 - accuracy: 0.8262 - val_loss: 0.5760 - val_accuracy: 0.7887\n",
      "Epoch 34/50\n",
      "21/21 [==============================] - 41s 2s/step - loss: 0.4739 - accuracy: 0.8247 - val_loss: 0.5618 - val_accuracy: 0.7843\n",
      "Epoch 35/50\n",
      "21/21 [==============================] - 41s 2s/step - loss: 0.4641 - accuracy: 0.8209 - val_loss: 0.5429 - val_accuracy: 0.8094\n",
      "Epoch 36/50\n",
      "21/21 [==============================] - 42s 2s/step - loss: 0.4426 - accuracy: 0.8335 - val_loss: 0.6362 - val_accuracy: 0.7876\n",
      "Epoch 37/50\n",
      "21/21 [==============================] - 40s 2s/step - loss: 0.4215 - accuracy: 0.8392 - val_loss: 0.6300 - val_accuracy: 0.7789\n",
      "Epoch 38/50\n",
      "21/21 [==============================] - 41s 2s/step - loss: 0.4360 - accuracy: 0.8312 - val_loss: 0.5807 - val_accuracy: 0.7952\n",
      "Epoch 39/50\n",
      "21/21 [==============================] - 41s 2s/step - loss: 0.4301 - accuracy: 0.8388 - val_loss: 0.5863 - val_accuracy: 0.7963\n",
      "Epoch 40/50\n",
      "21/21 [==============================] - 40s 2s/step - loss: 0.3752 - accuracy: 0.8540 - val_loss: 0.5756 - val_accuracy: 0.8094\n",
      "Epoch 41/50\n",
      "21/21 [==============================] - 40s 2s/step - loss: 0.3833 - accuracy: 0.8556 - val_loss: 0.6221 - val_accuracy: 0.7756\n",
      "Epoch 42/50\n",
      "21/21 [==============================] - 41s 2s/step - loss: 0.4022 - accuracy: 0.8521 - val_loss: 0.5379 - val_accuracy: 0.7952\n",
      "Epoch 43/50\n",
      "21/21 [==============================] - 41s 2s/step - loss: 0.3858 - accuracy: 0.8491 - val_loss: 0.6055 - val_accuracy: 0.7919\n",
      "Epoch 44/50\n",
      "21/21 [==============================] - 40s 2s/step - loss: 0.3878 - accuracy: 0.8521 - val_loss: 0.5630 - val_accuracy: 0.7996\n",
      "Epoch 45/50\n",
      "21/21 [==============================] - 41s 2s/step - loss: 0.3416 - accuracy: 0.8723 - val_loss: 0.5395 - val_accuracy: 0.8224\n",
      "Epoch 46/50\n",
      "21/21 [==============================] - 41s 2s/step - loss: 0.3377 - accuracy: 0.8784 - val_loss: 0.5633 - val_accuracy: 0.8061\n",
      "Epoch 47/50\n",
      "21/21 [==============================] - 42s 2s/step - loss: 0.3113 - accuracy: 0.8807 - val_loss: 0.5495 - val_accuracy: 0.8017\n",
      "Epoch 48/50\n",
      "21/21 [==============================] - 41s 2s/step - loss: 0.3308 - accuracy: 0.8776 - val_loss: 0.5609 - val_accuracy: 0.8159\n",
      "Epoch 49/50\n",
      "21/21 [==============================] - 42s 2s/step - loss: 0.3152 - accuracy: 0.8788 - val_loss: 0.5818 - val_accuracy: 0.8214\n",
      "Epoch 50/50\n",
      "21/21 [==============================] - 43s 2s/step - loss: 0.3453 - accuracy: 0.8662 - val_loss: 0.6012 - val_accuracy: 0.7930\n"
     ]
    }
   ],
   "source": [
    "run_model = model.fit_generator(datagen.flow(x_train,y_train, batch_size=batch_size),\n",
    "                              epochs = epochs, validation_data = (x_test,y_test),\n",
    "                              verbose = 1, steps_per_epoch=x_train.shape[0] // batch_size)"
   ]
  },
  {
   "cell_type": "code",
   "execution_count": 74,
   "id": "04cf25fc",
   "metadata": {},
   "outputs": [
    {
     "data": {
      "image/png": "[encoded data removed]",
      "text/plain": [
       "<Figure size 432x288 with 1 Axes>"
      ]
     },
     "metadata": {
      "needs_background": "light"
     },
     "output_type": "display_data"
    },
    {
     "data": {
      "image/png": "[encoded data removed]",
      "text/plain": [
       "<Figure size 432x288 with 1 Axes>"
      ]
     },
     "metadata": {
      "needs_background": "light"
     },
     "output_type": "display_data"
    }
   ],
   "source": [
    "plt.plot(History.history['loss'])\n",
    "plt.plot(History.history['val_loss'])\n",
    "plt.title('Model Loss')\n",
    "plt.ylabel('Loss')\n",
    "plt.xlabel('Epochs')\n",
    "plt.legend(['train', 'test'])\n",
    "plt.show()\n",
    "plt.plot(History.history['accuracy'])\n",
    "plt.plot(History.history['val_accuracy'])\n",
    "plt.title('Model Accuracy')\n",
    "plt.ylabel('Accuracy')\n",
    "plt.xlabel('Epochs')\n",
    "plt.legend(['train', 'test'])\n",
    "plt.show()"
   ]
  },
  {
   "cell_type": "code",
   "execution_count": 75,
   "id": "5ae8f835",
   "metadata": {},
   "outputs": [
    {
     "name": "stdout",
     "output_type": "stream",
     "text": [
      "correct Predictions: 728 out of 918 with an accuracy of 0.7930283224400871\n",
      " \n",
      "Diasy's accuracy is 0.8148148148148148\n",
      "Sunflower accuracy is 0.7737556561085973\n",
      "Tulips accuracy is 0.7142857142857143\n",
      "Dandelion accuracy is 0.8607594936708861\n",
      "Roses accuracy is 0.8086124401913876\n"
     ]
    }
   ],
   "source": [
    "predictions_all=model.predict(x_test)\n",
    "highest= np.argmax(predictions_all, axis = 1)\n",
    "ver_labels=np.argmax(y_test, axis = 1)\n",
    "\n",
    "storage=[0,0,0,0,0]\n",
    "right_pred_storage=[0,0,0,0,0]\n",
    "\n",
    "for i in range(len(ver_labels)):\n",
    "    storage[ver_labels[i]]=storage[ver_labels[i]]+1\n",
    "    if(ver_labels[i]==highest[i]):\n",
    "        right_pred_storage[ver_labels[i]]=right_pred_storage[ver_labels[i]]+1\n",
    "        \n",
    "sum_predict=0\n",
    "sum_test=0\n",
    "for i in range(5):\n",
    "    sum_predict=sum_predict+right_pred_storage[i]\n",
    "    sum_test=sum_test+storage[i]\n",
    "final= sum_predict/sum_test\n",
    "print(f\"correct Predictions: {sum_predict} out of {sum_test} with an accuracy of {final}\")\n",
    "print(f\" \\nDiasy's accuracy is {right_pred_storage[0]/storage[0]}\")\n",
    "print(f\"Sunflower accuracy is {right_pred_storage[1]/storage[1]}\")\n",
    "print(f\"Tulips accuracy is {right_pred_storage[2]/storage[2]}\")\n",
    "print(f\"Dandelion accuracy is {right_pred_storage[3]/storage[3]}\")\n",
    "print(f\"Roses accuracy is {right_pred_storage[4]/storage[4]}\")\n",
    "\n",
    "    \n",
    "    "
   ]
  },
  {
   "cell_type": "code",
   "execution_count": null,
   "id": "9f9a06b3",
   "metadata": {},
   "outputs": [],
   "source": []
  }
 ],
 "metadata": {
  "kernelspec": {
   "display_name": "Python 3 (ipykernel)",
   "language": "python",
   "name": "python3"
  },
  "language_info": {
   "codemirror_mode": {
    "name": "ipython",
    "version": 3
   },
   "file_extension": ".py",
   "mimetype": "text/x-python",
   "name": "python",
   "nbconvert_exporter": "python",
   "pygments_lexer": "ipython3",
   "version": "3.9.1"
  }
 },
 "nbformat": 4,
 "nbformat_minor": 5
}
